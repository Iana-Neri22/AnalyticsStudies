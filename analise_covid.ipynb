{
  "cells": [
    {
      "cell_type": "markdown",
      "metadata": {
        "colab_type": "text",
        "id": "view-in-github"
      },
      "source": [
        "<a href=\"https://colab.research.google.com/github/Iana-Neri22/AnalyticsStudies/blob/master/analise_covid.ipynb\" target=\"_parent\"><img src=\"https://colab.research.google.com/assets/colab-badge.svg\" alt=\"Open In Colab\"/></a>"
      ]
    },
    {
      "cell_type": "code",
      "execution_count": 13,
      "metadata": {
        "id": "PnndQNo_3VKO"
      },
      "outputs": [],
      "source": [
        "import pandas as pd\n",
        "import glob\n",
        "import os\n",
        "\n",
        "dict_colunas = {\n",
        "    'UF': 'UF',\n",
        "    'A002': 'Idade', \n",
        "    'A003': 'Sexo', \n",
        "    'A005': 'Escolaridade',\n",
        "    'B0011': 'Febre', \n",
        "    'B0012': 'Tosse',\n",
        "    'B0013': 'Dor_Garganta',\n",
        "    'B0014': 'Dificuldade_Respirar',\n",
        "    'B0016': 'Dor_Peito',\n",
        "    'B0017': 'Nausea',\n",
        "    'B0018': 'Nariz_Entupido',\n",
        "    'B0019': 'Fadiga',\n",
        "    'B00110': 'Dor_Olhos',\n",
        "    'B00111': 'Perda_Cheiro_Sabor', \n",
        "    'B00112': 'Dor_Muscular', \n",
        "    'B002': 'Buscou_Estabelecimento_Saude',\n",
        "    'B0031': 'Ficou_Casa', \n",
        "    'B0032': 'Ligar_Profissional_Saude', \n",
        "    'B0033': 'Remedio_Conta_Propria',\n",
        "    'B0034': 'Remedio_Orientacao_Medica', \n",
        "    'B0035': 'Visita_Profissional_SUS', \n",
        "    'B0036': 'Visita_Profissional_Particular',\n",
        "    'B0037': 'Outra_Medida_Recuperacao', \n",
        "    'B0042': 'Atendimento_PS_SUS_UPA', \n",
        "    'B0043': 'Atendimento_Hospital_SUS',\n",
        "    'B0044': 'Atendimento_Ambulatorio_Consultorio_Privado_Forcas_Armadas', \n",
        "    'B0045': 'PS_Privado_Forcas_Armadas', \n",
        "    'B0046': 'Hospital_Privado_Forcas_Armadas',\n",
        "    'B005': 'Internacao', \n",
        "    'B006': 'Internacao_Respiracao_Artifical', \n",
        "    'B007': 'Possui_Plano_Saude',\n",
        "    'C001': 'Trabalhou', \n",
        "    'C002': 'Afastado', \n",
        "    'C003': 'Motivo_Afastamento',\n",
        "    'C004': 'Continuou_Remunerado',\n",
        "    'C005': 'Tempo_Afastamento', \n",
        "    'C006': 'Tem_Mais_Um_Trabalho',\n",
        "    'C007': 'Tipo_Emprego', \n",
        "    'C007A': 'Area_Trabalho', \n",
        "    'C007B': 'Tipo_Vinculo_Empregaticio',\n",
        "    'C007C': 'Cargo_Trabalho', \n",
        "    'C007D': 'Atividade_Trabalho', \n",
        "    'C007E': 'Numero_Funcionarios_Empresa',\n",
        "    'C008': 'Horas_Trabalho_Semana', \n",
        "    'C011A11': 'Faixa_Rendimento', \n",
        "    'C013': 'Home_Office',\n",
        "    'B0018': 'Nariz Entupido', \n",
        "    'B0019': 'Fadiga',\n",
        "    'B00110': 'Dor Olhos'\n",
        "}\n",
        "\n",
        "lista_colunas = list(dict_colunas.keys())\n",
        "\n",
        "# Path de todos os arquivos csv para análise\n",
        "caminho_arquivos = './Datasets'\n",
        "# Armazenando o path de cada arquivo\n",
        "if not os.path.exists(f'{caminho_arquivos}/DadosCovidCompilados.csv.'):\n",
        "    dados_por_mes = glob.glob(os.path.join(caminho_arquivos, \"*.csv\"))\n",
        "\n",
        "    # Unindo todos os arquivos em um único dataframe\n",
        "    df = pd.concat((pd.read_csv(f) for f in dados_por_mes), ignore_index=True)\n",
        "    df.to_csv(f'{caminho_arquivos}/DadosCovidCompilados.csv') \n",
        "df = pd.read_csv(f'{caminho_arquivos}/DadosCovidCompilados.csv', usecols=lista_colunas)"
      ]
    },
    {
      "cell_type": "code",
      "execution_count": 14,
      "metadata": {
        "colab": {
          "base_uri": "https://localhost:8080/",
          "height": 211
        },
        "id": "BBXwRCif7dMB",
        "outputId": "b158188e-1768-4752-ec9c-9de7028670e9"
      },
      "outputs": [
        {
          "ename": "KeyError",
          "evalue": "'UF'",
          "output_type": "error",
          "traceback": [
            "\u001b[1;31m---------------------------------------------------------------------------\u001b[0m",
            "\u001b[1;31mKeyError\u001b[0m                                  Traceback (most recent call last)",
            "File \u001b[1;32mc:\\Users\\User\\OneDrive\\Documents\\Git Workspace\\TesteAnalytics\\venv\\Lib\\site-packages\\pandas\\core\\indexes\\base.py:3805\u001b[0m, in \u001b[0;36mIndex.get_loc\u001b[1;34m(self, key)\u001b[0m\n\u001b[0;32m   3804\u001b[0m \u001b[38;5;28;01mtry\u001b[39;00m:\n\u001b[1;32m-> 3805\u001b[0m     \u001b[38;5;28;01mreturn\u001b[39;00m \u001b[38;5;28;43mself\u001b[39;49m\u001b[38;5;241;43m.\u001b[39;49m\u001b[43m_engine\u001b[49m\u001b[38;5;241;43m.\u001b[39;49m\u001b[43mget_loc\u001b[49m\u001b[43m(\u001b[49m\u001b[43mcasted_key\u001b[49m\u001b[43m)\u001b[49m\n\u001b[0;32m   3806\u001b[0m \u001b[38;5;28;01mexcept\u001b[39;00m \u001b[38;5;167;01mKeyError\u001b[39;00m \u001b[38;5;28;01mas\u001b[39;00m err:\n",
            "File \u001b[1;32mindex.pyx:167\u001b[0m, in \u001b[0;36mpandas._libs.index.IndexEngine.get_loc\u001b[1;34m()\u001b[0m\n",
            "File \u001b[1;32mindex.pyx:196\u001b[0m, in \u001b[0;36mpandas._libs.index.IndexEngine.get_loc\u001b[1;34m()\u001b[0m\n",
            "File \u001b[1;32mpandas\\\\_libs\\\\hashtable_class_helper.pxi:7081\u001b[0m, in \u001b[0;36mpandas._libs.hashtable.PyObjectHashTable.get_item\u001b[1;34m()\u001b[0m\n",
            "File \u001b[1;32mpandas\\\\_libs\\\\hashtable_class_helper.pxi:7089\u001b[0m, in \u001b[0;36mpandas._libs.hashtable.PyObjectHashTable.get_item\u001b[1;34m()\u001b[0m\n",
            "\u001b[1;31mKeyError\u001b[0m: 'UF'",
            "\nThe above exception was the direct cause of the following exception:\n",
            "\u001b[1;31mKeyError\u001b[0m                                  Traceback (most recent call last)",
            "Cell \u001b[1;32mIn[14], line 4\u001b[0m\n\u001b[0;32m      2\u001b[0m df\u001b[38;5;241m.\u001b[39mhead()\n\u001b[0;32m      3\u001b[0m \u001b[38;5;66;03m# Como irei analisar os dados do estado de São Paulo filtrei por UF = 11\u001b[39;00m\n\u001b[1;32m----> 4\u001b[0m df \u001b[38;5;241m=\u001b[39m df[\u001b[43mdf\u001b[49m\u001b[43m[\u001b[49m\u001b[38;5;124;43m'\u001b[39;49m\u001b[38;5;124;43mUF\u001b[39;49m\u001b[38;5;124;43m'\u001b[39;49m\u001b[43m]\u001b[49m \u001b[38;5;241m==\u001b[39m \u001b[38;5;241m11\u001b[39m]\n\u001b[0;32m      5\u001b[0m \u001b[38;5;66;03m#df = df.query('UF == 11')\u001b[39;00m\n\u001b[0;32m      7\u001b[0m df \u001b[38;5;241m=\u001b[39m df\u001b[38;5;241m.\u001b[39mrename(columns\u001b[38;5;241m=\u001b[39mdict_colunas)\n",
            "File \u001b[1;32mc:\\Users\\User\\OneDrive\\Documents\\Git Workspace\\TesteAnalytics\\venv\\Lib\\site-packages\\pandas\\core\\frame.py:4102\u001b[0m, in \u001b[0;36mDataFrame.__getitem__\u001b[1;34m(self, key)\u001b[0m\n\u001b[0;32m   4100\u001b[0m \u001b[38;5;28;01mif\u001b[39;00m \u001b[38;5;28mself\u001b[39m\u001b[38;5;241m.\u001b[39mcolumns\u001b[38;5;241m.\u001b[39mnlevels \u001b[38;5;241m>\u001b[39m \u001b[38;5;241m1\u001b[39m:\n\u001b[0;32m   4101\u001b[0m     \u001b[38;5;28;01mreturn\u001b[39;00m \u001b[38;5;28mself\u001b[39m\u001b[38;5;241m.\u001b[39m_getitem_multilevel(key)\n\u001b[1;32m-> 4102\u001b[0m indexer \u001b[38;5;241m=\u001b[39m \u001b[38;5;28;43mself\u001b[39;49m\u001b[38;5;241;43m.\u001b[39;49m\u001b[43mcolumns\u001b[49m\u001b[38;5;241;43m.\u001b[39;49m\u001b[43mget_loc\u001b[49m\u001b[43m(\u001b[49m\u001b[43mkey\u001b[49m\u001b[43m)\u001b[49m\n\u001b[0;32m   4103\u001b[0m \u001b[38;5;28;01mif\u001b[39;00m is_integer(indexer):\n\u001b[0;32m   4104\u001b[0m     indexer \u001b[38;5;241m=\u001b[39m [indexer]\n",
            "File \u001b[1;32mc:\\Users\\User\\OneDrive\\Documents\\Git Workspace\\TesteAnalytics\\venv\\Lib\\site-packages\\pandas\\core\\indexes\\base.py:3812\u001b[0m, in \u001b[0;36mIndex.get_loc\u001b[1;34m(self, key)\u001b[0m\n\u001b[0;32m   3807\u001b[0m     \u001b[38;5;28;01mif\u001b[39;00m \u001b[38;5;28misinstance\u001b[39m(casted_key, \u001b[38;5;28mslice\u001b[39m) \u001b[38;5;129;01mor\u001b[39;00m (\n\u001b[0;32m   3808\u001b[0m         \u001b[38;5;28misinstance\u001b[39m(casted_key, abc\u001b[38;5;241m.\u001b[39mIterable)\n\u001b[0;32m   3809\u001b[0m         \u001b[38;5;129;01mand\u001b[39;00m \u001b[38;5;28many\u001b[39m(\u001b[38;5;28misinstance\u001b[39m(x, \u001b[38;5;28mslice\u001b[39m) \u001b[38;5;28;01mfor\u001b[39;00m x \u001b[38;5;129;01min\u001b[39;00m casted_key)\n\u001b[0;32m   3810\u001b[0m     ):\n\u001b[0;32m   3811\u001b[0m         \u001b[38;5;28;01mraise\u001b[39;00m InvalidIndexError(key)\n\u001b[1;32m-> 3812\u001b[0m     \u001b[38;5;28;01mraise\u001b[39;00m \u001b[38;5;167;01mKeyError\u001b[39;00m(key) \u001b[38;5;28;01mfrom\u001b[39;00m \u001b[38;5;21;01merr\u001b[39;00m\n\u001b[0;32m   3813\u001b[0m \u001b[38;5;28;01mexcept\u001b[39;00m \u001b[38;5;167;01mTypeError\u001b[39;00m:\n\u001b[0;32m   3814\u001b[0m     \u001b[38;5;66;03m# If we have a listlike key, _check_indexing_error will raise\u001b[39;00m\n\u001b[0;32m   3815\u001b[0m     \u001b[38;5;66;03m#  InvalidIndexError. Otherwise we fall through and re-raise\u001b[39;00m\n\u001b[0;32m   3816\u001b[0m     \u001b[38;5;66;03m#  the TypeError.\u001b[39;00m\n\u001b[0;32m   3817\u001b[0m     \u001b[38;5;28mself\u001b[39m\u001b[38;5;241m.\u001b[39m_check_indexing_error(key)\n",
            "\u001b[1;31mKeyError\u001b[0m: 'UF'"
          ]
        }
      ],
      "source": [
        "# Exibir as primeiras linhas do dataframe\n",
        "df.head()\n",
        "# Como irei analisar os dados do estado de São Paulo filtrei por UF = 11\n",
        "df = df[df['UF'] == 11]\n",
        "#df = df.query('UF == 11')\n",
        "\n",
        "df = df.rename(columns=dict_colunas)\n",
        "\n",
        "lista_colunas = list(dict_colunas.values())\n",
        "\n",
        "# df = df.query('UF == 11')\n",
        "df = df[lista_colunas]\n",
        "\n",
        "df.head()"
      ]
    }
  ],
  "metadata": {
    "colab": {
      "authorship_tag": "ABX9TyONcnQeAZ4c403Y3JjnTsCy",
      "include_colab_link": true,
      "mount_file_id": "17nIyW2bZbSSf3HLcH5kM47CA0uu2qJGn",
      "provenance": []
    },
    "kernelspec": {
      "display_name": "Python 3",
      "name": "python3"
    },
    "language_info": {
      "codemirror_mode": {
        "name": "ipython",
        "version": 3
      },
      "file_extension": ".py",
      "mimetype": "text/x-python",
      "name": "python",
      "nbconvert_exporter": "python",
      "pygments_lexer": "ipython3",
      "version": "3.11.9"
    }
  },
  "nbformat": 4,
  "nbformat_minor": 0
}
