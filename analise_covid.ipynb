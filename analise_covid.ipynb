{
  "nbformat": 4,
  "nbformat_minor": 0,
  "metadata": {
    "colab": {
      "provenance": [],
      "mount_file_id": "17nIyW2bZbSSf3HLcH5kM47CA0uu2qJGn",
      "authorship_tag": "ABX9TyONcnQeAZ4c403Y3JjnTsCy",
      "include_colab_link": true
    },
    "kernelspec": {
      "name": "python3",
      "display_name": "Python 3"
    },
    "language_info": {
      "name": "python"
    }
  },
  "cells": [
    {
      "cell_type": "markdown",
      "metadata": {
        "id": "view-in-github",
        "colab_type": "text"
      },
      "source": [
        "<a href=\"https://colab.research.google.com/github/Iana-Neri22/AnalyticsStudies/blob/master/analise_covid.ipynb\" target=\"_parent\"><img src=\"https://colab.research.google.com/assets/colab-badge.svg\" alt=\"Open In Colab\"/></a>"
      ]
    },
    {
      "cell_type": "code",
      "execution_count": null,
      "metadata": {
        "id": "PnndQNo_3VKO"
      },
      "outputs": [],
      "source": [
        "import pandas as pd\n",
        "import glob\n",
        "import os\n",
        "import requests\n",
        "\n",
        "# Path de todos os arquivos csv para análise\n",
        "caminho_arquivos = '/content/drive/MyDrive/DatasetsCovid'\n",
        "# Armazenando o path de cada arquivo\n",
        "dados_por_mes = glob.glob(os.path.join(caminho_arquivos, \"*.csv\"))\n",
        "\n",
        "# Unindo todos os arquivos em um único dataframe\n",
        "df = pd.concat((pd.read_csv(f) for f in dados_por_mes), ignore_index=True)\n",
        "df.head()"
      ]
    },
    {
      "cell_type": "code",
      "source": [
        "# Exibir as primeiras linhas do dataframe\n",
        "#df.head()\n",
        "\n",
        "# Como irei analisar os dados do estado de São Paulo filtrei por UF = 11\n",
        "df = df[df['UF'] == 11]\n",
        "#df = df.query('UF == 11')\n",
        "\n",
        "dict_colunas ={'A002': 'Idade', 'A003': 'Sexo', 'A005': 'Escolaridade'}\n",
        "\n",
        "df = df.rename(columns=dict_colunas)\n",
        "\n",
        "lista_colunas = [dict_colunas.values]\n",
        "\n",
        "\n",
        "df = df.rename(columns={'B0011': 'Febre', 'B0012': 'Tosse', 'B0013': 'Dor_Garganta'})\n",
        "df = df.rename(columns={'B0014': 'Dificuldade_Respirar', 'B0016': 'Dor_Peito', 'B0017': 'Nausea'})\n",
        "df = df.rename(columns={'B0018': 'Nariz_Entupido', 'B0019': 'Fadiga', 'B00110': 'Dor_Olhos'})\n",
        "df = df.rename(columns={'B00111': 'Perda_Cheiro_Sabor', 'B00112': 'Dor_Muscular', 'B002': 'Buscou_Estabelecimento_Saude'})\n",
        "df = df.rename(columns={'B0031': 'Ficou_Casa', 'B0032': 'Ligar_Profissional_Saude', 'B0033': 'Remedio_Conta_Propria'})\n",
        "df = df.rename(columns={'B0034': 'Remedio_Orientacao_Medica', 'B0035': 'Visita_Profissional_SUS', 'B0036': 'Visita_Profissional_Particulas'})\n",
        "df = df.rename(columns={'B0037': 'Outra_Medida_Recuperacao', 'B0042': 'Atendimento_PS_SUS_UPA', 'B0043': 'Atendimento_Hospital_SUS'})\n",
        "df = df.rename(columns={'B0044': 'Atendimento_Ambulatorio_Consultorio_Privado_Forcas_Armadas', 'B0045': 'PS_Privado_Forcas_Armadas', 'B0046': 'Hospital_Privado_Forcas_Armadas'})\n",
        "df = df.rename(columns={'B005': 'Internacao', 'B006': 'Internacao_Respiracao_Artifical', 'B007': 'Possui_Plano_Saude'})\n",
        "df = df.rename(columns={'C001': 'Trabalhou', 'C002': 'Afastado', 'C003': 'Motivo_Afastamento'})\n",
        "df = df.rename(columns={'C004': 'Continuou_Remunerado', 'C005': 'Tempo_Afastamento', 'C006': 'Tem_Mais_Um_Trabalho'})\n",
        "df = df.rename(columns={'C007': 'Tipo_Emprego', 'C007A': 'Area_Trabalho', 'C007B': 'Tipo_Vinculo_Empregaticio'})\n",
        "df = df.rename(columns={'C007C': 'Cargo_Trabalho', 'C007D': 'Atividade_Trabalho', 'C007E': 'Numero_Funcionarios_Empresa'})\n",
        "df = df.rename(columns={'C008': 'Horas_Trabalho_Semana', 'C011A11': 'Faixa_Rendimento', 'C013': 'Home_Office'})\n",
        "df = df.rename(columns={'B0018': 'Nariz Entupido', 'B0019': 'Fadiga', 'B00110': 'Dor Olhos'})\n",
        "\n",
        "\n",
        "df = df.query('UF == 11')\n",
        "df = df[lista_colunas]\n",
        "\n",
        "df.head()"
      ],
      "metadata": {
        "colab": {
          "base_uri": "https://localhost:8080/",
          "height": 211
        },
        "id": "BBXwRCif7dMB",
        "outputId": "b158188e-1768-4752-ec9c-9de7028670e9"
      },
      "execution_count": 2,
      "outputs": [
        {
          "output_type": "error",
          "ename": "NameError",
          "evalue": "name 'df' is not defined",
          "traceback": [
            "\u001b[0;31m---------------------------------------------------------------------------\u001b[0m",
            "\u001b[0;31mNameError\u001b[0m                                 Traceback (most recent call last)",
            "\u001b[0;32m<ipython-input-2-89d18597b6f3>\u001b[0m in \u001b[0;36m<cell line: 5>\u001b[0;34m()\u001b[0m\n\u001b[1;32m      3\u001b[0m \u001b[0;34m\u001b[0m\u001b[0m\n\u001b[1;32m      4\u001b[0m \u001b[0;31m# Como irei analisar os dados do estado de São Paulo filtrei por UF = 11\u001b[0m\u001b[0;34m\u001b[0m\u001b[0;34m\u001b[0m\u001b[0m\n\u001b[0;32m----> 5\u001b[0;31m \u001b[0mdf\u001b[0m \u001b[0;34m=\u001b[0m \u001b[0mdf\u001b[0m\u001b[0;34m[\u001b[0m\u001b[0mdf\u001b[0m\u001b[0;34m[\u001b[0m\u001b[0;34m'UF'\u001b[0m\u001b[0;34m]\u001b[0m \u001b[0;34m==\u001b[0m \u001b[0;36m11\u001b[0m\u001b[0;34m]\u001b[0m\u001b[0;34m\u001b[0m\u001b[0;34m\u001b[0m\u001b[0m\n\u001b[0m\u001b[1;32m      6\u001b[0m \u001b[0;31m#df = df.query('UF == 11')\u001b[0m\u001b[0;34m\u001b[0m\u001b[0;34m\u001b[0m\u001b[0m\n\u001b[1;32m      7\u001b[0m \u001b[0;34m\u001b[0m\u001b[0m\n",
            "\u001b[0;31mNameError\u001b[0m: name 'df' is not defined"
          ]
        }
      ]
    }
  ]
}